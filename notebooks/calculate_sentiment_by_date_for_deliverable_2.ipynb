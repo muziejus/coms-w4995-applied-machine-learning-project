{
 "cells": [
  {
   "cell_type": "code",
   "execution_count": 1,
   "id": "0aa2bd64-1902-42f2-a0ef-d9187de54a0b",
   "metadata": {},
   "outputs": [],
   "source": [
    "import pandas as pd"
   ]
  },
  {
   "cell_type": "code",
   "execution_count": 13,
   "id": "df7ae7c9-22d4-4b18-b4ed-409166619bd4",
   "metadata": {},
   "outputs": [
    {
     "data": {
      "text/html": [
       "<div>\n",
       "<style scoped>\n",
       "    .dataframe tbody tr th:only-of-type {\n",
       "        vertical-align: middle;\n",
       "    }\n",
       "\n",
       "    .dataframe tbody tr th {\n",
       "        vertical-align: top;\n",
       "    }\n",
       "\n",
       "    .dataframe thead th {\n",
       "        text-align: right;\n",
       "    }\n",
       "</style>\n",
       "<table border=\"1\" class=\"dataframe\">\n",
       "  <thead>\n",
       "    <tr style=\"text-align: right;\">\n",
       "      <th></th>\n",
       "      <th>goid</th>\n",
       "      <th>date</th>\n",
       "      <th>corpus</th>\n",
       "      <th>text_sentiment</th>\n",
       "    </tr>\n",
       "  </thead>\n",
       "  <tbody>\n",
       "    <tr>\n",
       "      <th>1624</th>\n",
       "      <td>2306779352</td>\n",
       "      <td>2019-01-01</td>\n",
       "      <td>walgreens</td>\n",
       "      <td>0.505486</td>\n",
       "    </tr>\n",
       "    <tr>\n",
       "      <th>1787</th>\n",
       "      <td>2162489813</td>\n",
       "      <td>2019-01-02</td>\n",
       "      <td>walgreens</td>\n",
       "      <td>0.000139</td>\n",
       "    </tr>\n",
       "    <tr>\n",
       "      <th>202</th>\n",
       "      <td>2164423373</td>\n",
       "      <td>2019-01-07</td>\n",
       "      <td>dollar-tree</td>\n",
       "      <td>0.569715</td>\n",
       "    </tr>\n",
       "    <tr>\n",
       "      <th>2275</th>\n",
       "      <td>2625365615</td>\n",
       "      <td>2019-01-11</td>\n",
       "      <td>walmart</td>\n",
       "      <td>0.108352</td>\n",
       "    </tr>\n",
       "    <tr>\n",
       "      <th>1691</th>\n",
       "      <td>2166912217</td>\n",
       "      <td>2019-01-14</td>\n",
       "      <td>walgreens</td>\n",
       "      <td>0.000010</td>\n",
       "    </tr>\n",
       "  </tbody>\n",
       "</table>\n",
       "</div>"
      ],
      "text/plain": [
       "            goid       date       corpus  text_sentiment\n",
       "1624  2306779352 2019-01-01    walgreens        0.505486\n",
       "1787  2162489813 2019-01-02    walgreens        0.000139\n",
       "202   2164423373 2019-01-07  dollar-tree        0.569715\n",
       "2275  2625365615 2019-01-11      walmart        0.108352\n",
       "1691  2166912217 2019-01-14    walgreens        0.000010"
      ]
     },
     "execution_count": 13,
     "metadata": {},
     "output_type": "execute_result"
    }
   ],
   "source": [
    "corpora = [\n",
    "    \"dollar-tree\",\n",
    "    \"lululemon\",\n",
    "    \"ulta\",\n",
    "    \"walgreens\",\n",
    "    \"walmart\"\n",
    "]\n",
    "\n",
    "df = pd.DataFrame()\n",
    "\n",
    "for corpus in corpora:\n",
    "    corpus_df = pd.read_csv(f\"{corpus}.csv\")\n",
    "    df = pd.concat([df, corpus_df], ignore_index=True)\n",
    "\n",
    "df = df[[\"goid\", \"date\", \"corpus\", \"text_sentiment\"]]\n",
    "df[\"date\"] = pd.to_datetime(df[\"date\"], format=\"%Y-%m-%d\")\n",
    "df = df.sort_values([\"date\"])\n",
    "df.head()"
   ]
  },
  {
   "cell_type": "code",
   "execution_count": 15,
   "id": "dd754d59-6583-45da-8f7e-bd578bda5a73",
   "metadata": {},
   "outputs": [
    {
     "data": {
      "text/plain": [
       "corpus\n",
       "dollar-tree    0.158210\n",
       "lululemon      0.210296\n",
       "ulta           0.129233\n",
       "walgreens      0.176185\n",
       "walmart        0.203800\n",
       "Name: text_sentiment, dtype: float64"
      ]
     },
     "execution_count": 15,
     "metadata": {},
     "output_type": "execute_result"
    }
   ],
   "source": [
    "df.groupby([\"corpus\"])[\"text_sentiment\"].mean()"
   ]
  },
  {
   "cell_type": "code",
   "execution_count": 16,
   "id": "239e5ec0-787e-4019-ac53-a0ec615a8cad",
   "metadata": {},
   "outputs": [],
   "source": [
    "merged_df = df.groupby(['corpus', 'date'], as_index=False)['text_sentiment'].mean()\n"
   ]
  },
  {
   "cell_type": "code",
   "execution_count": 17,
   "id": "c429acab-2b4b-4fb4-8a86-9eb4790d176f",
   "metadata": {},
   "outputs": [
    {
     "data": {
      "text/html": [
       "<div>\n",
       "<style scoped>\n",
       "    .dataframe tbody tr th:only-of-type {\n",
       "        vertical-align: middle;\n",
       "    }\n",
       "\n",
       "    .dataframe tbody tr th {\n",
       "        vertical-align: top;\n",
       "    }\n",
       "\n",
       "    .dataframe thead th {\n",
       "        text-align: right;\n",
       "    }\n",
       "</style>\n",
       "<table border=\"1\" class=\"dataframe\">\n",
       "  <thead>\n",
       "    <tr style=\"text-align: right;\">\n",
       "      <th></th>\n",
       "      <th>corpus</th>\n",
       "      <th>date</th>\n",
       "      <th>text_sentiment</th>\n",
       "    </tr>\n",
       "  </thead>\n",
       "  <tbody>\n",
       "    <tr>\n",
       "      <th>0</th>\n",
       "      <td>dollar-tree</td>\n",
       "      <td>2019-01-07</td>\n",
       "      <td>0.569715</td>\n",
       "    </tr>\n",
       "    <tr>\n",
       "      <th>1</th>\n",
       "      <td>dollar-tree</td>\n",
       "      <td>2019-02-01</td>\n",
       "      <td>0.494012</td>\n",
       "    </tr>\n",
       "    <tr>\n",
       "      <th>2</th>\n",
       "      <td>dollar-tree</td>\n",
       "      <td>2019-02-04</td>\n",
       "      <td>0.256253</td>\n",
       "    </tr>\n",
       "    <tr>\n",
       "      <th>3</th>\n",
       "      <td>dollar-tree</td>\n",
       "      <td>2019-02-07</td>\n",
       "      <td>0.005165</td>\n",
       "    </tr>\n",
       "    <tr>\n",
       "      <th>4</th>\n",
       "      <td>dollar-tree</td>\n",
       "      <td>2019-02-08</td>\n",
       "      <td>0.000071</td>\n",
       "    </tr>\n",
       "    <tr>\n",
       "      <th>...</th>\n",
       "      <td>...</td>\n",
       "      <td>...</td>\n",
       "      <td>...</td>\n",
       "    </tr>\n",
       "    <tr>\n",
       "      <th>1750</th>\n",
       "      <td>walmart</td>\n",
       "      <td>2024-09-23</td>\n",
       "      <td>0.267857</td>\n",
       "    </tr>\n",
       "    <tr>\n",
       "      <th>1751</th>\n",
       "      <td>walmart</td>\n",
       "      <td>2024-10-02</td>\n",
       "      <td>0.030242</td>\n",
       "    </tr>\n",
       "    <tr>\n",
       "      <th>1752</th>\n",
       "      <td>walmart</td>\n",
       "      <td>2024-10-08</td>\n",
       "      <td>0.996736</td>\n",
       "    </tr>\n",
       "    <tr>\n",
       "      <th>1753</th>\n",
       "      <td>walmart</td>\n",
       "      <td>2024-10-09</td>\n",
       "      <td>-0.000018</td>\n",
       "    </tr>\n",
       "    <tr>\n",
       "      <th>1754</th>\n",
       "      <td>walmart</td>\n",
       "      <td>2024-10-15</td>\n",
       "      <td>0.120824</td>\n",
       "    </tr>\n",
       "  </tbody>\n",
       "</table>\n",
       "<p>1755 rows × 3 columns</p>\n",
       "</div>"
      ],
      "text/plain": [
       "           corpus       date  text_sentiment\n",
       "0     dollar-tree 2019-01-07        0.569715\n",
       "1     dollar-tree 2019-02-01        0.494012\n",
       "2     dollar-tree 2019-02-04        0.256253\n",
       "3     dollar-tree 2019-02-07        0.005165\n",
       "4     dollar-tree 2019-02-08        0.000071\n",
       "...           ...        ...             ...\n",
       "1750      walmart 2024-09-23        0.267857\n",
       "1751      walmart 2024-10-02        0.030242\n",
       "1752      walmart 2024-10-08        0.996736\n",
       "1753      walmart 2024-10-09       -0.000018\n",
       "1754      walmart 2024-10-15        0.120824\n",
       "\n",
       "[1755 rows x 3 columns]"
      ]
     },
     "execution_count": 17,
     "metadata": {},
     "output_type": "execute_result"
    }
   ],
   "source": [
    "merged_df"
   ]
  },
  {
   "cell_type": "code",
   "execution_count": 21,
   "id": "5baeae59-6d6b-4449-ad6a-b2c412a86406",
   "metadata": {},
   "outputs": [],
   "source": [
    "merged_df.to_csv(\"merged_sentiments.csv\", index=False)"
   ]
  },
  {
   "cell_type": "code",
   "execution_count": null,
   "id": "c696bea8-5623-4cfa-b381-97f2131cccb5",
   "metadata": {},
   "outputs": [],
   "source": []
  }
 ],
 "metadata": {
  "kernelspec": {
   "display_name": "Python 3 (ipykernel)",
   "language": "python",
   "name": "python3"
  },
  "language_info": {
   "codemirror_mode": {
    "name": "ipython",
    "version": 3
   },
   "file_extension": ".py",
   "mimetype": "text/x-python",
   "name": "python",
   "nbconvert_exporter": "python",
   "pygments_lexer": "ipython3",
   "version": "3.11.2"
  }
 },
 "nbformat": 4,
 "nbformat_minor": 5
}
