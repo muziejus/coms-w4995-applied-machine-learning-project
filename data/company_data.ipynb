{
 "cells": [
  {
   "cell_type": "code",
   "execution_count": 1,
   "metadata": {},
   "outputs": [],
   "source": [
    "import yfinance as yf\n",
    "import pandas as pd"
   ]
  },
  {
   "cell_type": "code",
   "execution_count": 2,
   "metadata": {},
   "outputs": [],
   "source": [
    "lulu = yf.Ticker(\"LULU\")\n",
    "wmt = yf.Ticker(\"WMT\")\n",
    "wba = yf.Ticker(\"WBA\")\n",
    "ulta = yf.Ticker(\"ULTA\")\n",
    "dltr = yf.Ticker(\"DLTR\")"
   ]
  },
  {
   "cell_type": "code",
   "execution_count": 3,
   "metadata": {},
   "outputs": [],
   "source": [
    "hist_lulu = lulu.history(period=\"10y\")\n",
    "hist_wmt = wmt.history(period='10y')\n",
    "hist_wba = wba.history(period=\"10y\")\n",
    "hist_ulta = ulta.history(period=\"10y\")\n",
    "hist_dltr = dltr.history(period='10y')"
   ]
  },
  {
   "cell_type": "code",
   "execution_count": 4,
   "metadata": {},
   "outputs": [],
   "source": [
    "hist_lulu = hist_lulu.reset_index() if hist_lulu.index.name == 'Date' else hist_lulu\n",
    "hist_wmt = hist_wmt.reset_index() if hist_wmt.index.name == 'Date' else hist_wmt\n",
    "hist_wba = hist_wba.reset_index() if hist_wba.index.name == 'Date' else hist_wba\n",
    "hist_ulta = hist_ulta.reset_index() if hist_ulta.index.name == 'Date' else hist_ulta\n",
    "hist_dltr = hist_dltr.reset_index() if hist_dltr.index.name == 'Date' else hist_dltr"
   ]
  },
  {
   "cell_type": "code",
   "execution_count": 5,
   "metadata": {},
   "outputs": [],
   "source": [
    "hist_lulu = hist_lulu[(hist_lulu['Date'] >= '2019-01-01') & (hist_lulu['Date'] <= '2024-10-16')]\n",
    "hist_wmt = hist_wmt[(hist_wmt['Date'] >= '2019-01-01') & (hist_wmt['Date'] <= '2024-10-16')]\n",
    "hist_wba = hist_wba[(hist_wba['Date'] >= '2019-01-01') & (hist_wba['Date'] <= '2024-10-16')]\n",
    "hist_ulta = hist_ulta[(hist_ulta['Date'] >= '2019-01-01') & (hist_ulta['Date'] <= '2024-10-16')]\n",
    "hist_dltr = hist_dltr[(hist_dltr['Date'] >= '2019-01-01') & (hist_dltr['Date'] <= '2024-10-16')]"
   ]
  },
  {
   "cell_type": "code",
   "execution_count": 6,
   "metadata": {},
   "outputs": [],
   "source": [
    "hist_lulu.to_csv(\"historical_data_lululemon.csv\", index=False)\n",
    "hist_wmt.to_csv(\"historical_data_walmart.csv\", index=False)\n",
    "hist_wba.to_csv(\"historical_data_walgreens.csv\", index=False)\n",
    "hist_ulta.to_csv(\"historical_data_ulta.csv\", index=False)\n",
    "hist_dltr.to_csv(\"historical_data_dollartree.csv\", index=False)"
   ]
  }
 ],
 "metadata": {
  "kernelspec": {
   "display_name": "Python 3",
   "language": "python",
   "name": "python3"
  },
  "language_info": {
   "codemirror_mode": {
    "name": "ipython",
    "version": 3
   },
   "file_extension": ".py",
   "mimetype": "text/x-python",
   "name": "python",
   "nbconvert_exporter": "python",
   "pygments_lexer": "ipython3",
   "version": "3.12.7"
  }
 },
 "nbformat": 4,
 "nbformat_minor": 2
}
